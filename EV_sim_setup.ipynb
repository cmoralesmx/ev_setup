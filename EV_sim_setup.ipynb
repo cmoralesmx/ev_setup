{
 "cells": [
  {
   "cell_type": "code",
   "execution_count": null,
   "metadata": {},
   "outputs": [
    {
     "name": "stdout",
     "output_type": "stream",
     "text": [
      "t 20 tK 293.15 visc 0.0010016\n",
      "const_Boltzmann * const_Temperature_K 4.0473766476e-21\n",
      "6. * math.pi * const_water_viscosity 0.018879715211013223\n"
     ]
    }
   ],
   "source": [
    "import math\n",
    "import random\n",
    "from math import radians\n",
    "\n",
    "f0 = \"\"\"D:\\iterations\\\\0_{}.xml\"\"\"\n",
    "\n",
    "# Dynamic viscosity of water\n",
    "# source http://www.viscopedia.com/viscosity-tables/substances/water/\n",
    "water_viscocities = {20:0.0010016, 21:0.0009775, 22:0.0009544,23:0.0009321, 24:0.0009107,25:0.00089}\n",
    "\n",
    "tempC = 20\n",
    "dt = 0.0025\n",
    "\n",
    "if tempC >= 20 and tempC <= 25:\n",
    "    const_Boltzmann = 1.3806504e-23\n",
    "    # Temperature (Kelvins) (20-25C) + 273.15\n",
    "    const_Temperature_K = tempC + 273.15\n",
    "    const_water_viscosity = water_viscosities[tempC - 20]\n",
    "    print(\"t\",tempC,\"tK\", const_Temperature_K, \"visc\",const_water_viscosity)\n",
    "    print(\"const_Boltzmann * const_Temperature_K\", const_Boltzmann * const_Temperature_K)\n",
    "    print(\"6. * math.pi * const_water_viscosity\", 6. * math.pi * const_water_viscosity)\n",
    "else:\n",
    "    print(\"Error\")"
   ]
  },
  {
   "cell_type": "code",
   "execution_count": 16,
   "metadata": {
    "collapsed": true
   },
   "outputs": [],
   "source": [
    "class EV:\n",
    "    def random_coord(self):\n",
    "        return random.randint(-90, 90)\n",
    "    \n",
    "    def random_diameter_nm(self):\n",
    "        return (random.randint(3,30) * 10)\n",
    "        \n",
    "    def __init__(self, *args, **kwargs):\n",
    "        self._id = kwargs.get('_id', 0)\n",
    "        self.x_1 = kwargs.get('x_1', self.random_coord())\n",
    "        self.y_1 = kwargs.get('y_1', self.random_coord())\n",
    "        self.vx = kwargs.get('vx', 0)\n",
    "        self.vy = kwargs.get('vy', 0)\n",
    "        self.diameter_um = kwargs.get('diameter_nm', self.random_diameter_nm()) /1000\n",
    "        \n",
    "        self.radius_um = (self.diameter_um / 2)\n",
    "        self.radius_m = self.radius_um * 0.000001\n",
    "        self.mass_Kg = (5.47991E-20 / 100) * self.diameter_um\n",
    "\n",
    "        # Compute the radius-dependent diffusion coefficient defined as\n",
    "        # D = (boltzmann tempK)/(6 pi fluidViscosity particleRadius)\n",
    "        self.diffusion_rate_m = ((const_Boltzmann * const_Temperature_K) \n",
    "                                 / (6. * math.pi * const_water_viscosity * self.radius_m))\n",
    "        self.diffusion_rate_um = self.diffusion_rate_m * 1000000000000.\n",
    "        \n",
    "        # compute the RMS displacement per second which is diffusion-rate dependat\n",
    "        self.rms_displacement_um = math.sqrt(2 * self.diffusion_rate_um)\n",
    "        self.rms_displacement_m = math.sqrt(2 * self.diffusion_rate_m)\n",
    "    \n",
    "    def random_initial_impulse(self):\n",
    "        init_angle = random.randrange(0,359,1)\n",
    "        self.vx = self.rms_displacement_um * math.cos(radians(init_angle))\n",
    "        self.vy = self.rms_displacement_um * math.sin(radians(init_angle))\n",
    "        self.x = self.x_1 + self.vx * dt\n",
    "        self.y = self.y_1 + self.vy * dt\n",
    "    \n",
    "    def diffuse_h(self, positive=True):\n",
    "        self.vx = self.rms_displacement_um\n",
    "        if not positive:\n",
    "            self.vx *= -1\n",
    "        self.x = self.x_1 + self.vx * dt\n",
    "        self.y = 0\n",
    "    \n",
    "    def diffuse_v(self, positive=True):\n",
    "        self.vy = self.rms_displacement_um\n",
    "        if not positive:\n",
    "            self.vy *= -1\n",
    "        self.y = self.y_1 + self.vy * dt\n",
    "        self.x = 0\n",
    "    \n",
    "    def getXmlDescription(self):\n",
    "        return \"\"\"\n",
    "    <xagent>\n",
    "        <name>EV</name>\n",
    "        <id>{:d}</id>\n",
    "        <x>{:f}</x>\n",
    "        <y>{:f}</y>\n",
    "        <x_1>{:f}</x_1>\n",
    "        <y_1>{:f}</y_1>\n",
    "        <vx>{:.10f}</vx>\n",
    "        <vy>{:.10f}</vy>\n",
    "        <mass>{:.25f}f</mass>\n",
    "        <colour/>\n",
    "        <radius_um>{:f}</radius_um>\n",
    "        <radius_m>{:.10f}</radius_m>\n",
    "        <diameter_um>{:f}</diameter_um>        \n",
    "        <diffusion_rate_m>{:.25f}</diffusion_rate_m>\n",
    "        <diffusion_rate_um>{:.25f}</diffusion_rate_um>\n",
    "        <rms_displacement_um>{:.25f}</rms_displacement_um>\n",
    "        <rms_displacement_m>{:.25f}</rms_displacement_m>\n",
    "        <closest_ev_id>-1</closest_ev_id>\n",
    "        <closest_ev_distance>-1.f</closest_ev_distance>\n",
    "        <closest_wall_id>-1</closest_wall_id>\n",
    "        <closest_wall_distance>-1.f</closest_wall_distance>\n",
    "    </xagent>\"\"\".format(self._id, self.x, self.y,self.x_1, self.y_1, self.vx, self.vy, self.mass_Kg,\n",
    "                        self.radius_um, self.radius_m, self.diameter_um, \n",
    "                        self.diffusion_rate_m, self.diffusion_rate_um, self.rms_displacement_um, \n",
    "                                self.rms_displacement_m)"
   ]
  },
  {
   "cell_type": "code",
   "execution_count": 17,
   "metadata": {},
   "outputs": [
    {
     "name": "stdout",
     "output_type": "stream",
     "text": [
      "\n",
      "    <xagent>\n",
      "        <name>EV</name>\n",
      "        <id>0</id>\n",
      "        <x>-0.000286</x>\n",
      "        <y>0.005449</y>\n",
      "        <x_1>0.000000</x_1>\n",
      "        <y_1>0.000000</y_1>\n",
      "        <vx>-0.1142307421</vx>\n",
      "        <vy>2.1796524035</vy>\n",
      "        <mass>0.0000000000000000000000986f</mass>\n",
      "        <colour/>\n",
      "        <radius_um>0.090000</radius_um>\n",
      "        <radius_m>0.0000000900</radius_m>\n",
      "        <diameter_um>0.180000</diameter_um>        \n",
      "        <diffusion_rate_m>0.0000000000023819666312428</diffusion_rate_m>\n",
      "        <diffusion_rate_um>2.3819666312427676402307952</diffusion_rate_um>\n",
      "        <rms_displacement_um>2.1826436407452169952136956</rms_displacement_um>\n",
      "        <rms_displacement_m>0.0000021826436407452166066</rms_displacement_m>\n",
      "        <closest_ev_id>-1</closest_ev_id>\n",
      "        <closest_ev_distance>-1.f</closest_ev_distance>\n",
      "        <closest_wall_id>-1</closest_wall_id>\n",
      "        <closest_wall_distance>-1.f</closest_wall_distance>\n",
      "    </xagent>\n"
     ]
    }
   ],
   "source": [
    "e1 = EV(x_1=0,y_1=0)\n",
    "e1.random_initial_impulse()\n",
    "print(e1.getXmlDescription())"
   ]
  },
  {
   "cell_type": "code",
   "execution_count": 25,
   "metadata": {
    "collapsed": true
   },
   "outputs": [],
   "source": [
    "def writeXmlFromPresets(xs, ys, diameters):\n",
    "    if len(xs) == len(ys) and len(ys) == len(diameters):\n",
    "        with open(f0, 'w') as of:\n",
    "            header = \"\"\"<states>\n",
    "    <itno>0</itno>\n",
    "    <environment></environment>\"\"\"\n",
    "            of.write(header)\n",
    "\n",
    "            for i in range(len(xs)):\n",
    "                e = EV(_id= i, x_1=xs[i], y_1=ys[i], diameter_nm=diameters[i])\n",
    "                if len(xs) > 1:\n",
    "                    e.diffuse_h(i < (len(xs)/2))\n",
    "                else:\n",
    "                    e.diffuse_h()\n",
    "                of.write(e.getXmlDescription())\n",
    "            of.write(\"\"\"\n",
    "</states>\"\"\")\n",
    "    else:\n",
    "        printf(\"list sizes do not match\")\n",
    "\n",
    "def writeXmlForManyEVs(**kwargs):\n",
    "    n = kwargs.get('n', 50)\n",
    "    \n",
    "    with open(f0.format(n), 'w') as of:\n",
    "        header = \"\"\"<states>\n",
    "    <itno>0</itno>\n",
    "    <environment></environment>\"\"\"\n",
    "        of.write(header)\n",
    "\n",
    "        for i in range(n):\n",
    "            e = EV(**dict(kwargs, _id=i))\n",
    "            e.random_initial_impulse()\n",
    "            of.write(e.getXmlDescription())\n",
    "        of.write(\"\"\"\n",
    "</states>\"\"\")"
   ]
  },
  {
   "cell_type": "code",
   "execution_count": 19,
   "metadata": {
    "collapsed": true
   },
   "outputs": [],
   "source": [
    "# PRESET for 2 EVS in parallel, diffusing against each other\n",
    "xs = [-5., 10.]\n",
    "ys = [0, 0]\n",
    "diameters_nm = [100., 50.]\n",
    "\n",
    "writeXmlFromPresets(xs, ys, diameters_nm)"
   ]
  },
  {
   "cell_type": "code",
   "execution_count": null,
   "metadata": {
    "collapsed": true
   },
   "outputs": [],
   "source": [
    "# PRESET for 9 EVS at edges of screen, diffusing to the center\n",
    "minX = 180\n",
    "maxX = 180\n",
    "minY = 100\n",
    "maxY = 100\n",
    "midY = 10\n",
    "\n",
    "xs = [-minX, minX, -(int)(minX/2), (int)(minX/2), 0, -maxX, maxX, -(int)(maxX/2), (int)(maxX/2), 0]\n",
    "ys = [-minY, -minY, -(int)(minY/2), -(int)(minY/2), -midY, maxY, maxY, (int)(maxY/2), (int)(maxY/2), midY]\n",
    "diameters_um = [30, 30, 50, 50, 100, 100, 200, 200, 300, 300]\n",
    "\n",
    "writeXmlFromPresets(xs, ys, diameters_um)"
   ]
  },
  {
   "cell_type": "code",
   "execution_count": null,
   "metadata": {
    "collapsed": true
   },
   "outputs": [],
   "source": []
  },
  {
   "cell_type": "code",
   "execution_count": 43,
   "metadata": {},
   "outputs": [
    {
     "name": "stdout",
     "output_type": "stream",
     "text": [
      "32768\n",
      "65536\n",
      "131072\n",
      "262144\n",
      "524288\n",
      "1048576\n"
     ]
    }
   ],
   "source": [
    "for i in range(15,21):\n",
    "    print(2**i)"
   ]
  },
  {
   "cell_type": "code",
   "execution_count": 44,
   "metadata": {
    "collapsed": true
   },
   "outputs": [],
   "source": [
    "for i in range(15,21):\n",
    "    writeXmlForManyEVs(n=2**i,x_1=0,y_1=0)"
   ]
  },
  {
   "cell_type": "code",
   "execution_count": 46,
   "metadata": {
    "collapsed": true
   },
   "outputs": [],
   "source": [
    "writeXmlForManyEVs(n=512,x_1=0,y_1=0)"
   ]
  },
  {
   "cell_type": "code",
   "execution_count": null,
   "metadata": {
    "collapsed": true
   },
   "outputs": [],
   "source": []
  }
 ],
 "metadata": {
  "kernelspec": {
   "display_name": "Python 3",
   "language": "python",
   "name": "python3"
  },
  "language_info": {
   "codemirror_mode": {
    "name": "ipython",
    "version": 3
   },
   "file_extension": ".py",
   "mimetype": "text/x-python",
   "name": "python",
   "nbconvert_exporter": "python",
   "pygments_lexer": "ipython3",
   "version": "3.6.3"
  }
 },
 "nbformat": 4,
 "nbformat_minor": 2
}
